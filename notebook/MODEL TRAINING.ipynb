{
 "cells": [
  {
   "cell_type": "markdown",
   "id": "b7fcfd21",
   "metadata": {},
   "source": [
    "1.IMPORTING DATA AND REQUIRED PACKAGES"
   ]
  },
  {
   "cell_type": "code",
   "execution_count": 2,
   "id": "a6f017d9",
   "metadata": {},
   "outputs": [
    {
     "name": "stdout",
     "output_type": "stream",
     "text": [
      "c:\\Users\\Kirush\\Downloads\\Employee_turnover_Analysis_ML_Project\\venv\\Scripts\\python.exe\n"
     ]
    }
   ],
   "source": [
    "import sys\n",
    "print(sys.executable)"
   ]
  },
  {
   "cell_type": "code",
   "execution_count": 3,
   "id": "73ca4d9c",
   "metadata": {},
   "outputs": [
    {
     "name": "stdout",
     "output_type": "stream",
     "text": [
      "Collecting scikit-learn\n",
      "  Downloading scikit_learn-1.7.2-cp313-cp313-win_amd64.whl.metadata (11 kB)\n",
      "Collecting imbalanced-learn\n",
      "  Downloading imbalanced_learn-0.14.0-py3-none-any.whl.metadata (8.8 kB)\n",
      "Requirement already satisfied: numpy>=1.22.0 in c:\\users\\kirush\\downloads\\employee_turnover_analysis_ml_project\\venv\\lib\\site-packages (from scikit-learn) (2.3.4)\n",
      "Collecting scipy>=1.8.0 (from scikit-learn)\n",
      "  Downloading scipy-1.16.3-cp313-cp313-win_amd64.whl.metadata (60 kB)\n",
      "Collecting joblib>=1.2.0 (from scikit-learn)\n",
      "  Downloading joblib-1.5.2-py3-none-any.whl.metadata (5.6 kB)\n",
      "Collecting threadpoolctl>=3.1.0 (from scikit-learn)\n",
      "  Downloading threadpoolctl-3.6.0-py3-none-any.whl.metadata (13 kB)\n",
      "Downloading scikit_learn-1.7.2-cp313-cp313-win_amd64.whl (8.7 MB)\n",
      "   ---------------------------------------- 0.0/8.7 MB ? eta -:--:--\n",
      "   ---------------------------------------- 0.0/8.7 MB ? eta -:--:--\n",
      "   ---------------------------------------- 0.0/8.7 MB ? eta -:--:--\n",
      "   ---------------------------------------- 0.0/8.7 MB ? eta -:--:--\n",
      "   - -------------------------------------- 0.3/8.7 MB ? eta -:--:--\n",
      "   - -------------------------------------- 0.3/8.7 MB ? eta -:--:--\n",
      "   - -------------------------------------- 0.3/8.7 MB ? eta -:--:--\n",
      "   - -------------------------------------- 0.3/8.7 MB ? eta -:--:--\n",
      "   - -------------------------------------- 0.3/8.7 MB ? eta -:--:--\n",
      "   -- ------------------------------------- 0.5/8.7 MB 264.8 kB/s eta 0:00:31\n",
      "   -- ------------------------------------- 0.5/8.7 MB 264.8 kB/s eta 0:00:31\n",
      "   -- ------------------------------------- 0.5/8.7 MB 264.8 kB/s eta 0:00:31\n",
      "   -- ------------------------------------- 0.5/8.7 MB 264.8 kB/s eta 0:00:31\n",
      "   ---- ----------------------------------- 1.0/8.7 MB 402.9 kB/s eta 0:00:19\n",
      "   ------- -------------------------------- 1.6/8.7 MB 605.5 kB/s eta 0:00:12\n",
      "   --------- ------------------------------ 2.1/8.7 MB 782.0 kB/s eta 0:00:09\n",
      "   ------------- -------------------------- 2.9/8.7 MB 1.0 MB/s eta 0:00:06\n",
      "   ---------------- ----------------------- 3.7/8.7 MB 1.2 MB/s eta 0:00:05\n",
      "   -------------------- ------------------- 4.5/8.7 MB 1.4 MB/s eta 0:00:04\n",
      "   ------------------------- -------------- 5.5/8.7 MB 1.6 MB/s eta 0:00:02\n",
      "   ------------------------------ --------- 6.6/8.7 MB 1.8 MB/s eta 0:00:02\n",
      "   --------------------------------- ------ 7.3/8.7 MB 1.9 MB/s eta 0:00:01\n",
      "   ------------------------------------- -- 8.1/8.7 MB 2.0 MB/s eta 0:00:01\n",
      "   ---------------------------------------- 8.7/8.7 MB 2.1 MB/s eta 0:00:00\n",
      "Downloading imbalanced_learn-0.14.0-py3-none-any.whl (239 kB)\n",
      "Downloading joblib-1.5.2-py3-none-any.whl (308 kB)\n",
      "Downloading scipy-1.16.3-cp313-cp313-win_amd64.whl (38.5 MB)\n",
      "   ---------------------------------------- 0.0/38.5 MB ? eta -:--:--\n",
      "   ---------------------------------------- 0.0/38.5 MB ? eta -:--:--\n",
      "   ---------------------------------------- 0.3/38.5 MB ? eta -:--:--\n",
      "   ---------------------------------------- 0.3/38.5 MB ? eta -:--:--\n",
      "    --------------------------------------- 0.5/38.5 MB 506.1 kB/s eta 0:01:16\n",
      "    --------------------------------------- 0.5/38.5 MB 506.1 kB/s eta 0:01:16\n",
      "    --------------------------------------- 0.5/38.5 MB 506.1 kB/s eta 0:01:16\n",
      "    --------------------------------------- 0.8/38.5 MB 485.5 kB/s eta 0:01:18\n",
      "    --------------------------------------- 0.8/38.5 MB 485.5 kB/s eta 0:01:18\n",
      "    --------------------------------------- 0.8/38.5 MB 485.5 kB/s eta 0:01:18\n",
      "    --------------------------------------- 0.8/38.5 MB 485.5 kB/s eta 0:01:18\n",
      "   - -------------------------------------- 1.0/38.5 MB 411.0 kB/s eta 0:01:32\n",
      "   - -------------------------------------- 1.0/38.5 MB 411.0 kB/s eta 0:01:32\n",
      "   - -------------------------------------- 1.0/38.5 MB 411.0 kB/s eta 0:01:32\n",
      "   - -------------------------------------- 1.0/38.5 MB 411.0 kB/s eta 0:01:32\n",
      "   - -------------------------------------- 1.0/38.5 MB 411.0 kB/s eta 0:01:32\n",
      "   - -------------------------------------- 1.3/38.5 MB 341.1 kB/s eta 0:01:50\n",
      "   - -------------------------------------- 1.3/38.5 MB 341.1 kB/s eta 0:01:50\n",
      "   - -------------------------------------- 1.3/38.5 MB 341.1 kB/s eta 0:01:50\n",
      "   - -------------------------------------- 1.3/38.5 MB 341.1 kB/s eta 0:01:50\n",
      "   - -------------------------------------- 1.3/38.5 MB 341.1 kB/s eta 0:01:50\n",
      "   - -------------------------------------- 1.3/38.5 MB 341.1 kB/s eta 0:01:50\n",
      "   - -------------------------------------- 1.6/38.5 MB 304.4 kB/s eta 0:02:02\n",
      "   - -------------------------------------- 1.6/38.5 MB 304.4 kB/s eta 0:02:02\n",
      "   - -------------------------------------- 1.6/38.5 MB 304.4 kB/s eta 0:02:02\n",
      "   - -------------------------------------- 1.8/38.5 MB 322.9 kB/s eta 0:01:54\n",
      "   - -------------------------------------- 1.8/38.5 MB 322.9 kB/s eta 0:01:54\n",
      "   -- ------------------------------------- 2.1/38.5 MB 347.0 kB/s eta 0:01:45\n",
      "   -- ------------------------------------- 2.6/38.5 MB 424.4 kB/s eta 0:01:25\n",
      "   --- ------------------------------------ 3.1/38.5 MB 500.3 kB/s eta 0:01:11\n",
      "   --- ------------------------------------ 3.7/38.5 MB 571.6 kB/s eta 0:01:01\n",
      "   ---- ----------------------------------- 4.5/38.5 MB 674.0 kB/s eta 0:00:51\n",
      "   ----- ---------------------------------- 5.0/38.5 MB 739.7 kB/s eta 0:00:46\n",
      "   ----- ---------------------------------- 5.8/38.5 MB 835.3 kB/s eta 0:00:40\n",
      "   ------ --------------------------------- 6.6/38.5 MB 925.9 kB/s eta 0:00:35\n",
      "   ------- -------------------------------- 7.6/38.5 MB 1.0 MB/s eta 0:00:30\n",
      "   -------- ------------------------------- 8.7/38.5 MB 1.2 MB/s eta 0:00:26\n",
      "   --------- ------------------------------ 9.4/38.5 MB 1.2 MB/s eta 0:00:24\n",
      "   ---------- ----------------------------- 10.2/38.5 MB 1.3 MB/s eta 0:00:22\n",
      "   ----------- ---------------------------- 11.3/38.5 MB 1.4 MB/s eta 0:00:20\n",
      "   ------------ --------------------------- 12.1/38.5 MB 1.5 MB/s eta 0:00:19\n",
      "   ------------- -------------------------- 12.8/38.5 MB 1.5 MB/s eta 0:00:17\n",
      "   -------------- ------------------------- 13.6/38.5 MB 1.6 MB/s eta 0:00:16\n",
      "   -------------- ------------------------- 14.4/38.5 MB 1.6 MB/s eta 0:00:15\n",
      "   --------------- ------------------------ 15.2/38.5 MB 1.7 MB/s eta 0:00:14\n",
      "   ---------------- ----------------------- 16.0/38.5 MB 1.7 MB/s eta 0:00:14\n",
      "   ----------------- ---------------------- 16.8/38.5 MB 1.8 MB/s eta 0:00:13\n",
      "   ------------------ --------------------- 17.6/38.5 MB 1.8 MB/s eta 0:00:12\n",
      "   ------------------- -------------------- 18.4/38.5 MB 1.9 MB/s eta 0:00:11\n",
      "   -------------------- ------------------- 19.4/38.5 MB 1.9 MB/s eta 0:00:10\n",
      "   -------------------- ------------------- 20.2/38.5 MB 2.0 MB/s eta 0:00:10\n",
      "   --------------------- ------------------ 21.0/38.5 MB 2.0 MB/s eta 0:00:09\n",
      "   ---------------------- ----------------- 21.8/38.5 MB 2.0 MB/s eta 0:00:09\n",
      "   ----------------------- ---------------- 22.5/38.5 MB 2.1 MB/s eta 0:00:08\n",
      "   ------------------------ --------------- 23.3/38.5 MB 2.1 MB/s eta 0:00:08\n",
      "   ------------------------- -------------- 24.1/38.5 MB 2.1 MB/s eta 0:00:07\n",
      "   ------------------------- -------------- 24.9/38.5 MB 2.2 MB/s eta 0:00:07\n",
      "   -------------------------- ------------- 26.0/38.5 MB 2.2 MB/s eta 0:00:06\n",
      "   --------------------------- ------------ 26.7/38.5 MB 2.2 MB/s eta 0:00:06\n",
      "   ---------------------------- ----------- 27.5/38.5 MB 2.3 MB/s eta 0:00:05\n",
      "   ----------------------------- ---------- 28.3/38.5 MB 2.3 MB/s eta 0:00:05\n",
      "   ------------------------------ --------- 29.1/38.5 MB 2.3 MB/s eta 0:00:05\n",
      "   ------------------------------- -------- 29.9/38.5 MB 2.3 MB/s eta 0:00:04\n",
      "   ------------------------------- -------- 30.7/38.5 MB 2.4 MB/s eta 0:00:04\n",
      "   -------------------------------- ------- 31.5/38.5 MB 2.4 MB/s eta 0:00:03\n",
      "   --------------------------------- ------ 32.2/38.5 MB 2.4 MB/s eta 0:00:03\n",
      "   ---------------------------------- ----- 33.0/38.5 MB 2.4 MB/s eta 0:00:03\n",
      "   ----------------------------------- ---- 34.1/38.5 MB 2.5 MB/s eta 0:00:02\n",
      "   ------------------------------------ --- 34.9/38.5 MB 2.5 MB/s eta 0:00:02\n",
      "   ------------------------------------- -- 35.7/38.5 MB 2.5 MB/s eta 0:00:02\n",
      "   ------------------------------------- -- 36.4/38.5 MB 2.5 MB/s eta 0:00:01\n",
      "   -------------------------------------- - 37.2/38.5 MB 2.5 MB/s eta 0:00:01\n",
      "   ---------------------------------------  38.0/38.5 MB 2.6 MB/s eta 0:00:01\n",
      "   ---------------------------------------- 38.5/38.5 MB 2.6 MB/s eta 0:00:00\n",
      "Downloading threadpoolctl-3.6.0-py3-none-any.whl (18 kB)\n",
      "Installing collected packages: threadpoolctl, scipy, joblib, scikit-learn, imbalanced-learn\n",
      "\n",
      "   -------- ------------------------------- 1/5 [scipy]\n",
      "   -------- ------------------------------- 1/5 [scipy]\n",
      "   -------- ------------------------------- 1/5 [scipy]\n",
      "   -------- ------------------------------- 1/5 [scipy]\n",
      "   -------- ------------------------------- 1/5 [scipy]\n",
      "   -------- ------------------------------- 1/5 [scipy]\n",
      "   -------- ------------------------------- 1/5 [scipy]\n",
      "   -------- ------------------------------- 1/5 [scipy]\n",
      "   -------- ------------------------------- 1/5 [scipy]\n",
      "   -------- ------------------------------- 1/5 [scipy]\n",
      "   -------- ------------------------------- 1/5 [scipy]\n",
      "   -------- ------------------------------- 1/5 [scipy]\n",
      "   -------- ------------------------------- 1/5 [scipy]\n",
      "   -------- ------------------------------- 1/5 [scipy]\n",
      "   -------- ------------------------------- 1/5 [scipy]\n",
      "   -------- ------------------------------- 1/5 [scipy]\n",
      "   -------- ------------------------------- 1/5 [scipy]\n",
      "   -------- ------------------------------- 1/5 [scipy]\n",
      "   -------- ------------------------------- 1/5 [scipy]\n",
      "   -------- ------------------------------- 1/5 [scipy]\n",
      "   -------- ------------------------------- 1/5 [scipy]\n",
      "   -------- ------------------------------- 1/5 [scipy]\n",
      "   -------- ------------------------------- 1/5 [scipy]\n",
      "   -------- ------------------------------- 1/5 [scipy]\n",
      "   -------- ------------------------------- 1/5 [scipy]\n",
      "   -------- ------------------------------- 1/5 [scipy]\n",
      "   -------- ------------------------------- 1/5 [scipy]\n",
      "   -------- ------------------------------- 1/5 [scipy]\n",
      "   -------- ------------------------------- 1/5 [scipy]\n",
      "   -------- ------------------------------- 1/5 [scipy]\n",
      "   -------- ------------------------------- 1/5 [scipy]\n",
      "   -------- ------------------------------- 1/5 [scipy]\n",
      "   -------- ------------------------------- 1/5 [scipy]\n",
      "   -------- ------------------------------- 1/5 [scipy]\n",
      "   -------- ------------------------------- 1/5 [scipy]\n",
      "   -------- ------------------------------- 1/5 [scipy]\n",
      "   -------- ------------------------------- 1/5 [scipy]\n",
      "   -------- ------------------------------- 1/5 [scipy]\n",
      "   -------- ------------------------------- 1/5 [scipy]\n",
      "   -------- ------------------------------- 1/5 [scipy]\n",
      "   ---------------- ----------------------- 2/5 [joblib]\n",
      "   ---------------- ----------------------- 2/5 [joblib]\n",
      "   ------------------------ --------------- 3/5 [scikit-learn]\n",
      "   ------------------------ --------------- 3/5 [scikit-learn]\n",
      "   ------------------------ --------------- 3/5 [scikit-learn]\n",
      "   ------------------------ --------------- 3/5 [scikit-learn]\n",
      "   ------------------------ --------------- 3/5 [scikit-learn]\n",
      "   ------------------------ --------------- 3/5 [scikit-learn]\n",
      "   ------------------------ --------------- 3/5 [scikit-learn]\n",
      "   ------------------------ --------------- 3/5 [scikit-learn]\n",
      "   ------------------------ --------------- 3/5 [scikit-learn]\n",
      "   ------------------------ --------------- 3/5 [scikit-learn]\n",
      "   ------------------------ --------------- 3/5 [scikit-learn]\n",
      "   ------------------------ --------------- 3/5 [scikit-learn]\n",
      "   ------------------------ --------------- 3/5 [scikit-learn]\n",
      "   ------------------------ --------------- 3/5 [scikit-learn]\n",
      "   ------------------------ --------------- 3/5 [scikit-learn]\n",
      "   ------------------------ --------------- 3/5 [scikit-learn]\n",
      "   ------------------------ --------------- 3/5 [scikit-learn]\n",
      "   ------------------------ --------------- 3/5 [scikit-learn]\n",
      "   ------------------------ --------------- 3/5 [scikit-learn]\n",
      "   ------------------------ --------------- 3/5 [scikit-learn]\n",
      "   ------------------------ --------------- 3/5 [scikit-learn]\n",
      "   ------------------------ --------------- 3/5 [scikit-learn]\n",
      "   ------------------------ --------------- 3/5 [scikit-learn]\n",
      "   ------------------------ --------------- 3/5 [scikit-learn]\n",
      "   ------------------------ --------------- 3/5 [scikit-learn]\n",
      "   ------------------------ --------------- 3/5 [scikit-learn]\n",
      "   ------------------------ --------------- 3/5 [scikit-learn]\n",
      "   ------------------------ --------------- 3/5 [scikit-learn]\n",
      "   ------------------------ --------------- 3/5 [scikit-learn]\n",
      "   ------------------------ --------------- 3/5 [scikit-learn]\n",
      "   ------------------------ --------------- 3/5 [scikit-learn]\n",
      "   ------------------------ --------------- 3/5 [scikit-learn]\n",
      "   ------------------------ --------------- 3/5 [scikit-learn]\n",
      "   -------------------------------- ------- 4/5 [imbalanced-learn]\n",
      "   -------------------------------- ------- 4/5 [imbalanced-learn]\n",
      "   -------------------------------- ------- 4/5 [imbalanced-learn]\n",
      "   ---------------------------------------- 5/5 [imbalanced-learn]\n",
      "\n",
      "Successfully installed imbalanced-learn-0.14.0 joblib-1.5.2 scikit-learn-1.7.2 scipy-1.16.3 threadpoolctl-3.6.0\n"
     ]
    },
    {
     "name": "stderr",
     "output_type": "stream",
     "text": [
      "\n",
      "[notice] A new release of pip is available: 25.1.1 -> 25.3\n",
      "[notice] To update, run: python.exe -m pip install --upgrade pip\n"
     ]
    }
   ],
   "source": [
    "!c:/Users/Kirush/Downloads/Employee_turnover_Analysis_ML_Project/venv/Scripts/python.exe -m pip install scikit-learn imbalanced-learn"
   ]
  },
  {
   "cell_type": "code",
   "execution_count": 4,
   "id": "5a50a074",
   "metadata": {},
   "outputs": [],
   "source": [
    "from sklearn.model_selection import train_test_split\n",
    "from imblearn.over_sampling import SMOTE\n",
    "from sklearn.linear_model import LogisticRegression\n",
    "from sklearn.model_selection import StratifiedKFold, cross_val_predict\n",
    "from sklearn.metrics import classification_report, ConfusionMatrixDisplay, confusion_matrix\n",
    "from imblearn.pipeline import Pipeline\n",
    "from sklearn.ensemble import RandomForestClassifier\n",
    "from sklearn.ensemble import GradientBoostingClassifier\n",
    "from sklearn.metrics import roc_curve, roc_auc_score"
   ]
  },
  {
   "cell_type": "code",
   "execution_count": 6,
   "id": "2ba51094",
   "metadata": {},
   "outputs": [],
   "source": [
    "import pandas as pd\n",
    "import numpy as np\n",
    "import matplotlib.pyplot as plt\n",
    "import seaborn as sns\n"
   ]
  },
  {
   "cell_type": "code",
   "execution_count": 7,
   "id": "0cc214eb",
   "metadata": {},
   "outputs": [],
   "source": [
    "df = pd.read_csv('HR_comma_sep.csv')"
   ]
  },
  {
   "cell_type": "code",
   "execution_count": 9,
   "id": "63a624ee",
   "metadata": {},
   "outputs": [],
   "source": [
    "#droppingg duplicates\n",
    "df.drop_duplicates(keep='first',inplace=True)\n",
    "\n",
    "#renaming the column name 'sales' as 'department'\n",
    "df.rename(columns = {'sales':'department'}, inplace = True)\n",
    "\n",
    "#applying one hot encoding\n",
    "df= pd.get_dummies(data = df, columns = ['department'], drop_first = True)\n",
    "\n",
    "#applying label encoding\n",
    "df['salary'] = df['salary'].map({'low':0, 'medium': 1, 'high': 2})"
   ]
  },
  {
   "cell_type": "markdown",
   "id": "0282da1c",
   "metadata": {},
   "source": [
    "2. DEFINING X AND Y AND PERFORMING TRAIN-TEST SPLIT"
   ]
  },
  {
   "cell_type": "code",
   "execution_count": 10,
   "id": "c7df509c",
   "metadata": {},
   "outputs": [],
   "source": [
    "x = df.drop(['left'], axis = 1).astype('float64')\n",
    "y = df['left']\n",
    "\n",
    "x_train,x_test,y_train,y_test = train_test_split(x,y,test_size = 0.2, random_state = 123)"
   ]
  },
  {
   "cell_type": "code",
   "execution_count": 11,
   "id": "95f713c2",
   "metadata": {},
   "outputs": [
    {
     "data": {
      "text/plain": [
       "left\n",
       "0    7991\n",
       "1    1601\n",
       "Name: count, dtype: int64"
      ]
     },
     "execution_count": 11,
     "metadata": {},
     "output_type": "execute_result"
    }
   ],
   "source": [
    "y_train.value_counts()"
   ]
  },
  {
   "cell_type": "markdown",
   "id": "196d5000",
   "metadata": {},
   "source": [
    "Train data is imbalanced!"
   ]
  },
  {
   "cell_type": "code",
   "execution_count": 12,
   "id": "949182f4",
   "metadata": {},
   "outputs": [],
   "source": [
    "#upsampling class 0 to 60% of class 1 using SMOTE\n",
    "smote = SMOTE(sampling_strategy = 0.8,random_state = 42)\n",
    "x_train_smote,y_train_smote = smote.fit_resample(x_train,y_train)"
   ]
  },
  {
   "cell_type": "code",
   "execution_count": 13,
   "id": "92187c2b",
   "metadata": {},
   "outputs": [
    {
     "data": {
      "text/plain": [
       "left\n",
       "0    7991\n",
       "1    6392\n",
       "Name: count, dtype: int64"
      ]
     },
     "execution_count": 13,
     "metadata": {},
     "output_type": "execute_result"
    }
   ],
   "source": [
    "y_train_smote.value_counts()"
   ]
  },
  {
   "cell_type": "markdown",
   "id": "706758ca",
   "metadata": {},
   "source": [
    "Train data is balanced."
   ]
  },
  {
   "cell_type": "markdown",
   "id": "f625f913",
   "metadata": {},
   "source": [
    "3. FITTING DATA INTO 3 DIFFERENT MODELS & EVALUATING THEIR PERFORMANCE"
   ]
  },
  {
   "cell_type": "markdown",
   "id": "ba4256c5",
   "metadata": {},
   "source": [
    "MODEL 1: Logistic Regression + 5 fold CV"
   ]
  },
  {
   "cell_type": "code",
   "execution_count": 14,
   "id": "a7d24560",
   "metadata": {},
   "outputs": [
    {
     "name": "stdout",
     "output_type": "stream",
     "text": [
      "              precision    recall  f1-score   support\n",
      "\n",
      "           0       0.96      0.77      0.85     10000\n",
      "           1       0.41      0.82      0.55      1991\n",
      "\n",
      "    accuracy                           0.78     11991\n",
      "   macro avg       0.68      0.79      0.70     11991\n",
      "weighted avg       0.86      0.78      0.80     11991\n",
      "\n"
     ]
    }
   ],
   "source": [
    "# Pipeline: SMOTE transforms, then Logistic Regression\n",
    "pipeline = Pipeline([\n",
    "    ('smote', SMOTE(random_state=42)),\n",
    "    ('logreg', LogisticRegression(max_iter=10000, random_state=42))\n",
    "])\n",
    "\n",
    "# 5-fold Stratified CV\n",
    "cv = StratifiedKFold(n_splits=5, shuffle=True, random_state=42)\n",
    "y_pred = cross_val_predict(pipeline, x, y, cv=cv)\n",
    "\n",
    "# Classification report\n",
    "print(classification_report(y, y_pred))\n",
    "report = classification_report(y, y_pred, output_dict=True)\n"
   ]
  },
  {
   "cell_type": "markdown",
   "id": "c4f59107",
   "metadata": {},
   "source": [
    "MODEL 2: Random Forest Classifier + 5 Fold CV"
   ]
  },
  {
   "cell_type": "code",
   "execution_count": 15,
   "id": "d4f56095",
   "metadata": {},
   "outputs": [
    {
     "name": "stdout",
     "output_type": "stream",
     "text": [
      "              precision    recall  f1-score   support\n",
      "\n",
      "           0       0.98      1.00      0.99     10000\n",
      "           1       0.98      0.91      0.95      1991\n",
      "\n",
      "    accuracy                           0.98     11991\n",
      "   macro avg       0.98      0.96      0.97     11991\n",
      "weighted avg       0.98      0.98      0.98     11991\n",
      "\n"
     ]
    }
   ],
   "source": [
    "# Pipeline: SMOTE transforms, then RandomForest classifier\n",
    "pipeline = Pipeline([\n",
    "    ('smote', SMOTE(random_state=42)),\n",
    "    ('randomforest', RandomForestClassifier(n_estimators=100,n_jobs = -1, random_state=42))\n",
    "])\n",
    "\n",
    "# 5-fold Stratified CV\n",
    "y_pred1 = cross_val_predict(pipeline, x, y, cv=cv)\n",
    "\n",
    "# Classification report\n",
    "print(classification_report(y, y_pred1))\n",
    "report1 = classification_report(y, y_pred1, output_dict=True)\n"
   ]
  },
  {
   "cell_type": "markdown",
   "id": "46dcd06e",
   "metadata": {},
   "source": [
    "MODEL 3: Gradient Boosting Classifier + 5 Fold CV"
   ]
  },
  {
   "cell_type": "code",
   "execution_count": 16,
   "id": "d0e8fd2e",
   "metadata": {},
   "outputs": [
    {
     "name": "stdout",
     "output_type": "stream",
     "text": [
      "              precision    recall  f1-score   support\n",
      "\n",
      "           0       0.99      0.98      0.98     10000\n",
      "           1       0.91      0.93      0.92      1991\n",
      "\n",
      "    accuracy                           0.97     11991\n",
      "   macro avg       0.95      0.95      0.95     11991\n",
      "weighted avg       0.97      0.97      0.97     11991\n",
      "\n"
     ]
    }
   ],
   "source": [
    "# Pipeline: SMOTE transforms, then Gradient Boosting classifier\n",
    "pipeline = Pipeline([\n",
    "    ('smote', SMOTE(random_state=42)),\n",
    "    ('gradientboosting', GradientBoostingClassifier(n_estimators=100,learning_rate = 0.1, random_state=42))\n",
    "])\n",
    "\n",
    "# 5-fold Stratified CV\n",
    "y_pred2 = cross_val_predict(pipeline, x, y, cv=cv)\n",
    "\n",
    "# Classification report\n",
    "print(classification_report(y, y_pred2))\n",
    "report2 = classification_report(y, y_pred2, output_dict=True)\n"
   ]
  },
  {
   "cell_type": "markdown",
   "id": "b4510664",
   "metadata": {},
   "source": [
    "Clearly the performance of Random Forest Classifier model and Gradient Boosting Classifier are the best with recall value for class 1 as 0.91 and 0.93 respectively.\n",
    "\n",
    "According to the problem statement, recall is the most important metric because a false negative entry becomes costly for the company."
   ]
  },
  {
   "cell_type": "markdown",
   "id": "fb2aaecb",
   "metadata": {},
   "source": [
    "4.PLOTTING ROC CURVE FOR ALL THE MODELS"
   ]
  },
  {
   "cell_type": "code",
   "execution_count": 17,
   "id": "8c56b706",
   "metadata": {},
   "outputs": [
    {
     "data": {
      "image/png": "[encoded data removed]",
      "text/plain": [
       "<Figure size 1000x600 with 1 Axes>"
      ]
     },
     "metadata": {},
     "output_type": "display_data"
    }
   ],
   "source": [
    "# Define models\n",
    "models = {\n",
    "    \"Logistic Regression\": LogisticRegression(max_iter=10000),\n",
    "    \"Random Forest\": RandomForestClassifier(n_estimators=500, random_state=42, n_jobs=-1),\n",
    "    \"Gradient Boosting\": GradientBoostingClassifier(n_estimators=100, learning_rate=0.1, random_state=42)\n",
    "}\n",
    "\n",
    "# Cross-validation setup\n",
    "cv = StratifiedKFold(n_splits=5, shuffle=True, random_state=42)\n",
    "\n",
    "# Plot setup\n",
    "plt.figure(figsize=(10, 6))\n",
    "\n",
    "for name, model in models.items():\n",
    "    # Pipeline: SMOTE + model\n",
    "    pipeline = Pipeline([\n",
    "        ('smote', SMOTE(random_state=42)),\n",
    "        (name.lower().replace(\" \", \"_\"), model)\n",
    "    ])\n",
    "\n",
    "    # Get predicted probabilities\n",
    "    y_proba = cross_val_predict(pipeline, x, y, cv=cv, method='predict_proba')[:, 1]\n",
    "\n",
    "    # Compute ROC curve and AUC\n",
    "    fpr, tpr, _ = roc_curve(y, y_proba)\n",
    "    auc_score = roc_auc_score(y, y_proba)\n",
    "\n",
    "    # Plot\n",
    "    plt.plot(fpr, tpr, label=f\"{name} (AUC = {auc_score:.2f})\")\n",
    "\n",
    "# Final plot formatting\n",
    "plt.plot([0, 1], [0, 1], 'k--', label=\"Random Guess\")\n",
    "plt.xlabel(\"False Positive Rate\")\n",
    "plt.ylabel(\"True Positive Rate\")\n",
    "plt.title(\"ROC Curve Comparison (5-Fold CV with SMOTE)\")\n",
    "plt.legend(loc=\"lower right\")\n",
    "plt.grid(True)\n",
    "plt.tight_layout()\n",
    "plt.show()"
   ]
  },
  {
   "cell_type": "markdown",
   "id": "8d040e66",
   "metadata": {},
   "source": [
    "Random Forest Classifier and Gradient boosting perform best with AUC of 0.98 each!"
   ]
  },
  {
   "cell_type": "markdown",
   "id": "0e197514",
   "metadata": {},
   "source": [
    "5. USING GRADIENT BOOSTING CLASSIFIER TO PREDICT THE PROBABILITY OF EMPLOYEE TURNOVER IN THE TEST DATA."
   ]
  },
  {
   "cell_type": "code",
   "execution_count": 18,
   "id": "c7ec7b1d",
   "metadata": {},
   "outputs": [
    {
     "name": "stdout",
     "output_type": "stream",
     "text": [
      "Employee Distribution by Risk Zone:\n",
      "risk_zone\n",
      "Safe Zone (Green)            1873\n",
      "High-Risk Zone (Red)          316\n",
      "Low-Risk Zone (Yellow)        135\n",
      "Medium-Risk Zone (Orange)      75\n",
      "Name: count, dtype: int64\n"
     ]
    }
   ],
   "source": [
    "# Train Grading Boosting Classifier on SMOTE-balanced data\n",
    "gb = GradientBoostingClassifier(n_estimators=100,learning_rate = 0.1, random_state=42)\n",
    "gb.fit(x_train_smote, y_train_smote) \n",
    "\n",
    "# Predict probabilities on test data\n",
    "turnover_probs = gb.predict_proba(x_test)[:, 1]  # Probability of class '1' (employee leaving)\n",
    "\n",
    "#categorizing employees into 4 zones based on probability scores\n",
    "test_results = pd.DataFrame(data = turnover_probs,columns=['turnover_probs'])\n",
    "\n",
    "def categorize_zone(prob):\n",
    "    if prob < 0.20:\n",
    "        return 'Safe Zone (Green)'\n",
    "    elif prob < 0.60:\n",
    "        return 'Low-Risk Zone (Yellow)'\n",
    "    elif prob < 0.90:\n",
    "        return 'Medium-Risk Zone (Orange)'\n",
    "    else:\n",
    "        return 'High-Risk Zone (Red)'\n",
    "\n",
    "# Apply categorization\n",
    "test_results['risk_zone'] = test_results['turnover_probs'].apply(categorize_zone)\n",
    "\n",
    "# View distribution\n",
    "zone_counts = test_results['risk_zone'].value_counts()\n",
    "print(\"Employee Distribution by Risk Zone:\")\n",
    "print(zone_counts)"
   ]
  },
  {
   "cell_type": "markdown",
   "id": "f8f42025",
   "metadata": {},
   "source": [
    "Retension Strategies as per risk zone:\n",
    "\n",
    "High-risk zone: immediate intervention-->personalized retension plans,offer retention bonuses,address workload, recognition gaps\n",
    "\n",
    "Medium-risk zone: initiate stay interviews to understand concers,provide targeted training or role adjustments\n",
    "\n",
    "Low-risk zone: coduct regular checkins and feedback sessions,ensure fair compensation and career growth visibility.\n",
    "\n",
    "Safe-zone: recognize and reward consistency,offer leadership development and mentorship opportunities."
   ]
  },
  {
   "cell_type": "markdown",
   "id": "e30da4ac",
   "metadata": {},
   "source": []
  }
 ],
 "metadata": {
  "kernelspec": {
   "display_name": "Python (Employee Turnover)",
   "language": "python",
   "name": "employee_turnover_venv"
  },
  "language_info": {
   "codemirror_mode": {
    "name": "ipython",
    "version": 3
   },
   "file_extension": ".py",
   "mimetype": "text/x-python",
   "name": "python",
   "nbconvert_exporter": "python",
   "pygments_lexer": "ipython3",
   "version": "3.13.5"
  }
 },
 "nbformat": 4,
 "nbformat_minor": 5
}
